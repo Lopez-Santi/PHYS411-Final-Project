{
 "cells": [
  {
   "cell_type": "code",
   "execution_count": null,
   "metadata": {},
   "outputs": [],
   "source": [
    "from sim_helpers import *\n",
    "from plotting_helpers import *"
   ]
  },
  {
   "cell_type": "markdown",
   "metadata": {},
   "source": [
    "First we initialize the graph that will be used in the simulations below"
   ]
  },
  {
   "cell_type": "code",
   "execution_count": null,
   "metadata": {},
   "outputs": [],
   "source": [
    "num_economies = 50 # Number of nodes\n",
    "m = 1 # Number of edges to attach from a new node to existing nodes\n",
    "\n",
    "G = initialize_sim(num_economies, m)"
   ]
  },
  {
   "cell_type": "markdown",
   "metadata": {},
   "source": [
    "## van-der-pol Oscillators"
   ]
  },
  {
   "cell_type": "markdown",
   "metadata": {},
   "source": [
    "Now we can run the simulation (first we will just do a van der pol).\n",
    "\n",
    "The Flow equations are:\n",
    "\n",
    "$$ \\dot{x} = v $$\n",
    "$$\\dot{v} = \\mu*(1 - x^2) * v - x$$\n",
    "\n",
    "x : The position\n",
    "\n",
    "v : The velocity\n",
    "\n",
    "$\\mu$ : non-linearity and strength of damping"
   ]
  },
  {
   "cell_type": "code",
   "execution_count": null,
   "metadata": {},
   "outputs": [],
   "source": [
    "# define simulation time parameters\n",
    "total_time = 50\n",
    "t_divisions = 10000\n",
    "\n",
    "# define master economy conditions\n",
    "mu = 0.5\n",
    "g = 0.1\n",
    "x0 = 1\n",
    "v0 = 1\n",
    "\n",
    "# run the simulation\n",
    "data, times = run_simulation(G,  total_time, t_divisions, mu=mu, g=g, x0=x0, v0=v0, param_perturb=0.2, \n",
    "                             ode_func = van_der_pol)"
   ]
  },
  {
   "cell_type": "markdown",
   "metadata": {},
   "source": [
    "Now we can plot the information from the simulation"
   ]
  },
  {
   "cell_type": "code",
   "execution_count": null,
   "metadata": {},
   "outputs": [],
   "source": [
    "vpd_plt(G, data, times)"
   ]
  },
  {
   "cell_type": "markdown",
   "metadata": {},
   "source": [
    "Now plotting again but separating those nodes that are directly connected to the master and those that are not"
   ]
  },
  {
   "cell_type": "code",
   "execution_count": null,
   "metadata": {},
   "outputs": [],
   "source": [
    "vpd_plt_deluxe(G, data, times)"
   ]
  },
  {
   "cell_type": "markdown",
   "metadata": {},
   "source": [
    "## IS-LM Model"
   ]
  },
  {
   "cell_type": "markdown",
   "metadata": {},
   "source": [
    "Now switching to the IS-LM model. Here I follow the book (Example 10.4) for the master economy parameters and add a small perturbation to the other economies. Again, the master economy is free while the others are coupled to each other and the master.\n",
    "\n",
    "The flow equations that define the dynamics are:\n",
    "\n",
    "$$\\dot{g} = α (Cg − ur + G)$$\n",
    "$$\\dot{r} = β (kg − vr − \\mu)$$\n",
    "\n",
    "r : Interest Rate\n",
    "\n",
    "g : Real Income (GDP)\n",
    "\n",
    "$\\mu$ : Suppressed investment in response to interest rate r\n",
    "\n",
    "l : Autonomous (government) expenditure\n",
    "\n",
    "c = p (1 − T ) + (i − 1) : Define full value when entering into model\n",
    "\n",
    "- p : Propensity to consume\n",
    "\n",
    "- T : Tax rate\n",
    "\n",
    "- i : Increased investment in response to income\n",
    "\n",
    "k : Enhanced demand for money in response to income y\n",
    "\n",
    "v : Suppressed demand for money in response to interest rate r\n",
    "\n",
    "$\\alpha$ : positive rate for interest rate\n",
    "\n",
    "$\\beta$ : positive rate for real income"
   ]
  },
  {
   "cell_type": "code",
   "execution_count": null,
   "metadata": {},
   "outputs": [],
   "source": [
    "# define simulation time parameters\n",
    "total_time = 100\n",
    "t_divisions = 10000\n",
    "\n",
    "# define master economy conditions\n",
    "g = 0.2 # base coupling strength\n",
    "mu = 1.525\n",
    "alpha = 0.2\n",
    "beta = 0.8\n",
    "c = 0.75 * (1 - 0.25 ) + (0.2 - 1)\n",
    "l = 20\n",
    "k = 0.25\n",
    "v = 0.2\n",
    "m = 2\n",
    "\n",
    "r0 = 20\n",
    "g0 = 20\n",
    "\n",
    "\n",
    "# run the simulation\n",
    "data, times = run_simulation(G, total_time, t_divisions, x0=r0, v0=g0, g=g, param_perturb = 0.2,\n",
    "                   mu=mu, alpha=alpha, beta=beta, c=c, l=l, k=k, v=v, m=m, ode_func=ISLM_model)"
   ]
  },
  {
   "cell_type": "code",
   "execution_count": null,
   "metadata": {},
   "outputs": [],
   "source": [
    "ISLM_plt(G, data, times)"
   ]
  },
  {
   "cell_type": "markdown",
   "metadata": {},
   "source": [
    "Lastly, we will try to implement the Kaldor Buisiness cycle model given by the flow equations:\n",
    "\n",
    "$$\\dot{y} = −ak + by − cy^3$$\n",
    "$$\\dot{k} = −dk + e tanh(gy)$$\n",
    "\n",
    "We will add a coupling to then end each of these flow equations for each of the nodes."
   ]
  },
  {
   "cell_type": "code",
   "execution_count": null,
   "metadata": {},
   "outputs": [],
   "source": [
    "# Flow using paramters:\n",
    "# x' = -k * x + m tanh(l * v) + SUM(i)[g * (x - x_i)]\n",
    "# v' = -alpha * x + beta * v - c * v^3 + SUM(i)[g * (v - v_i)]\n",
    "\n",
    "# define simulation time parameters\n",
    "total_time = 300\n",
    "t_divisions = 1000\n",
    "\n",
    "# define master economy conditions\n",
    "g = 0.5 #0.5 # base coupling strength\n",
    "alpha = 0.4\n",
    "beta = 0.6\n",
    "c = 0.3\n",
    "l = 0.3\n",
    "k = 0.2\n",
    "v = 0.2\n",
    "m = 0.8\n",
    "\n",
    "r0 = 1\n",
    "g0 = 1\n",
    "\n",
    "\n",
    "# run the simulation\n",
    "data, times = run_simulation(G, total_time, t_divisions, x0=r0, v0=g0, g=g, param_perturb = 0.3,\n",
    "                            alpha=alpha, beta=beta, c=c, l=l, k=k, v=v, m=m, ode_func=kaldor_model)"
   ]
  },
  {
   "cell_type": "code",
   "execution_count": null,
   "metadata": {},
   "outputs": [],
   "source": [
    "kaldor_plt(G, data, times)"
   ]
  },
  {
   "cell_type": "code",
   "execution_count": null,
   "metadata": {},
   "outputs": [],
   "source": []
  }
 ],
 "metadata": {
  "kernelspec": {
   "display_name": "base",
   "language": "python",
   "name": "python3"
  },
  "language_info": {
   "codemirror_mode": {
    "name": "ipython",
    "version": 3
   },
   "file_extension": ".py",
   "mimetype": "text/x-python",
   "name": "python",
   "nbconvert_exporter": "python",
   "pygments_lexer": "ipython3",
   "version": "3.11.5"
  }
 },
 "nbformat": 4,
 "nbformat_minor": 2
}
