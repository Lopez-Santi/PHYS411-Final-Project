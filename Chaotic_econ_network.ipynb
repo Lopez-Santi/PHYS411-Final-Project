{
 "cells": [
  {
   "cell_type": "code",
   "execution_count": null,
   "metadata": {},
   "outputs": [],
   "source": [
    "from sim_helpers import *\n",
    "from plotting_helpers import *"
   ]
  },
  {
   "cell_type": "code",
   "execution_count": null,
   "metadata": {},
   "outputs": [],
   "source": [
    "num_economies = 50 # Number of nodes\n",
    "m = 2 # Number of edges to attach from a new node to existing nodes\n",
    "\n",
    "G = initialize_sim(num_economies, m)"
   ]
  },
  {
   "cell_type": "markdown",
   "metadata": {},
   "source": [
    "Now Gooing to test a chatoic buisiness cycles model (10.3.4)\n",
    "Flow Equations:\n",
    "$$ \\dot{V} = c_3 B − c_2 V − c_1 y $$\n",
    "$$ \\dot{B} = \\frac{r}{c_3} y ( 1 − y ) $$\n",
    "$$ \\dot{y} = V$$\n",
    "\n",
    "y : sales\n",
    "\n",
    "B : inventory stocks\n",
    "\n",
    "V : output\n",
    "\n",
    "$ c_3 = \\frac{r}{m} = \\frac{1}{ba_2} > 0 \\quad c_2 = \\frac{ba_1 - \\tau}{ba_2} \\quad c_1 = \\frac{1}{a_2} > 0$\n"
   ]
  },
  {
   "cell_type": "code",
   "execution_count": null,
   "metadata": {},
   "outputs": [],
   "source": [
    "# Flow Equations\n",
    "# V' = c_3 * B − c_2 * V − c_1 * y\n",
    "# B' = r/c_3 * y * ( 1 − y )\n",
    "# y' = V\n",
    "# let c_3 -> k, c_2 -> m, c_1 -> l, r -> c\n",
    "# define simulation time parameters\n",
    "total_time = 30\n",
    "t_divisions = 1000\n",
    "\n",
    "# define master economy conditions\n",
    "g = 0.3 # base coupling strength\n",
    "\n",
    "# Defined by the book\n",
    "# k = 1/(b*a2)\n",
    "# m = (ba1 - tau)/(ba2)\n",
    "# l = 1/a2\n",
    "# c = mm/(ba2)\n",
    "# c1 = 1, c2 = 0.4, and c3 = 0.5\n",
    "b = 0.1\n",
    "a2 = 0.8\n",
    "a1 = 0.5\n",
    "tau = 0.2\n",
    "mm = 0.7\n",
    "\n",
    "# c = mm / (b*a2)\n",
    "# l = 1/a2\n",
    "# k = 1/(b*a2)\n",
    "# m = (b*a1 - tau)/(b*a2)\n",
    "\n",
    "l = 1\n",
    "m = 0.4\n",
    "k = 0.5\n",
    "c = 0.4\n",
    "\n",
    "x0= 1\n",
    "v0= 2\n",
    "y0= 2\n",
    "\n",
    "\n",
    "# run the simulation\n",
    "data, times = run_chaos_simulation(G, total_time, t_divisions, x0=x0, v0=v0, y0=y0, g=g, param_perturb = 0.8,\n",
    "                             c=c, l=l, k=k, m=m, ode_func=chaos_model)\n",
    "\n",
    "chaos_plt(G, data, times)"
   ]
  },
  {
   "cell_type": "code",
   "execution_count": null,
   "metadata": {},
   "outputs": [],
   "source": []
  }
 ],
 "metadata": {
  "kernelspec": {
   "display_name": "base",
   "language": "python",
   "name": "python3"
  },
  "language_info": {
   "codemirror_mode": {
    "name": "ipython",
    "version": 3
   },
   "file_extension": ".py",
   "mimetype": "text/x-python",
   "name": "python",
   "nbconvert_exporter": "python",
   "pygments_lexer": "ipython3",
   "version": "3.11.5"
  }
 },
 "nbformat": 4,
 "nbformat_minor": 2
}
