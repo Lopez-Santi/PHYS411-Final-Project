{
 "cells": [
  {
   "cell_type": "code",
   "execution_count": null,
   "metadata": {},
   "outputs": [],
   "source": [
    "import numpy as np\n",
    "import scipy.integrate as spi\n",
    "import matplotlib.pyplot as plt"
   ]
  },
  {
   "cell_type": "markdown",
   "metadata": {},
   "source": [
    "Here we will test the difference between the exact and approximation for small deviation from the equillibrium (x << 1)"
   ]
  },
  {
   "cell_type": "code",
   "execution_count": null,
   "metadata": {},
   "outputs": [],
   "source": [
    "def van_der_pol(mu,u0,t):\n",
    "\n",
    "    def f(u,t):\n",
    "        dudt = np.zeros(2)\n",
    "        dudt[0] = u[1]\n",
    "        dudt[1] = mu*(1 - u[0]**2)*u[1] - u[0]\n",
    "        return dudt\n",
    "\n",
    "    U = spi.odeint(f,u0,t)\n",
    "    x = U[:,0]\n",
    "    dxdt = U[:,1]    \n",
    "    return np.column_stack((x,dxdt))\n",
    "\n",
    "def approx_van_der_pol(mu,u0,t):\n",
    "\n",
    "    def f(u,t):\n",
    "        dudt = np.zeros(2)\n",
    "        dudt[0] = u[1]\n",
    "        dudt[1] = mu*u[1] - u[0]\n",
    "        return dudt\n",
    "\n",
    "    U = spi.odeint(f,u0,t)\n",
    "    x = U[:,0]\n",
    "    dxdt = U[:,1]    \n",
    "    return np.column_stack((x,dxdt))\n",
    "\n",
    "t = np.linspace(0,10,500)\n",
    "U = van_der_pol(0.5,[0.05, 0.05],t)\n",
    "U_approx = approx_van_der_pol(0.5,[0.05,0.05],t)\n",
    "plt.figure(figsize=(10,6))\n",
    "plt.plot(U[:,0],U[:,1], c = 'forestgreen', label = 'Exact Solution')\n",
    "plt.plot(U_approx[:,0],U_approx[:,1], c = 'cornflowerblue', label = 'Approximate Solution')\n",
    "plt.title('Phase Space')\n",
    "plt.xlabel('Position')\n",
    "plt.ylabel('Velocity')\n",
    "plt.legend()\n",
    "plt.show()\n",
    "plt.figure(figsize=(10,6))\n",
    "plt.plot(t, U[:,0], c = 'forestgreen', label = 'Exact Solution')\n",
    "plt.plot(t, U_approx[:,0], c = 'cornflowerblue', label = 'Approximate Solution')\n",
    "plt.title('Position Space')\n",
    "plt.xlabel('Time')\n",
    "plt.ylabel('Postion')\n",
    "plt.legend()\n",
    "plt.show()\n",
    "plt.figure(figsize=(10,6))\n",
    "plt.plot(t, U[:,1], c = 'forestgreen', label = 'Exact Solution')\n",
    "plt.plot(t, U_approx[:,1], c = 'cornflowerblue', label = 'Approximate Solution')\n",
    "plt.title('Velocity Space')\n",
    "plt.xlabel('Time')\n",
    "plt.ylabel('Velocity')\n",
    "plt.legend()\n",
    "plt.show()"
   ]
  },
  {
   "cell_type": "code",
   "execution_count": null,
   "metadata": {},
   "outputs": [],
   "source": []
  }
 ],
 "metadata": {
  "kernelspec": {
   "display_name": "base",
   "language": "python",
   "name": "python3"
  },
  "language_info": {
   "codemirror_mode": {
    "name": "ipython",
    "version": 3
   },
   "file_extension": ".py",
   "mimetype": "text/x-python",
   "name": "python",
   "nbconvert_exporter": "python",
   "pygments_lexer": "ipython3",
   "version": "3.11.5"
  }
 },
 "nbformat": 4,
 "nbformat_minor": 2
}
